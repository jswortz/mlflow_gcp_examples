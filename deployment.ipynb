{
 "cells": [
  {
   "cell_type": "markdown",
   "metadata": {
    "application/vnd.databricks.v1+cell": {
     "cellMetadata": {},
     "inputWidgets": {},
     "nuid": "ac5af2e6-0f7d-4cad-b12e-a11da79ae7cb",
     "showTitle": false,
     "title": ""
    }
   },
   "source": [
    "# Model Deployment\n",
    "\n",
    "To run this notebook set the GOOGLE CREDENTIAL PATH"
   ]
  },
  {
   "cell_type": "code",
   "execution_count": 1,
   "metadata": {
    "application/vnd.databricks.v1+cell": {
     "cellMetadata": {},
     "inputWidgets": {},
     "nuid": "5293c308-62f1-4a7b-bd79-43a4a2da8ba4",
     "showTitle": false,
     "title": ""
    },
    "tags": []
   },
   "outputs": [],
   "source": [
    "# %pip install google-auth google-cloud-storage google-cloud-mlflow databricks-registry-webhooks databricks-cli -q --user"
   ]
  },
  {
   "cell_type": "code",
   "execution_count": 2,
   "metadata": {},
   "outputs": [],
   "source": [
    "# !pip install databricks-cli --user -q"
   ]
  },
  {
   "cell_type": "markdown",
   "metadata": {
    "application/vnd.databricks.v1+cell": {
     "cellMetadata": {},
     "inputWidgets": {},
     "nuid": "62cc7d6d-3803-42ba-884a-1ffb0387572a",
     "showTitle": false,
     "title": ""
    },
    "tags": []
   },
   "source": [
    "## Import libraries"
   ]
  },
  {
   "cell_type": "code",
   "execution_count": 3,
   "metadata": {
    "application/vnd.databricks.v1+cell": {
     "cellMetadata": {},
     "inputWidgets": {},
     "nuid": "d027531b-b5fb-492f-b46c-261f9cbf5b00",
     "showTitle": false,
     "title": ""
    }
   },
   "outputs": [],
   "source": [
    "# General\n",
    "import random\n",
    "import string\n",
    "import os\n",
    "import urllib\n",
    "import time\n",
    "\n",
    "# Deployment\n",
    "import mlflow\n",
    "from  mlflow.tracking import MlflowClient\n",
    "from mlflow.entities import ViewType\n",
    "import google.oauth2.id_token\n",
    "import google.auth.transport.requests\n",
    "from databricks_registry_webhooks import RegistryWebhooksClient, HttpUrlSpec"
   ]
  },
  {
   "cell_type": "markdown",
   "metadata": {
    "application/vnd.databricks.v1+cell": {
     "cellMetadata": {},
     "inputWidgets": {},
     "nuid": "7860e5a8-d3d1-4b82-8b7d-02b8c1d3420b",
     "showTitle": false,
     "title": ""
    }
   },
   "source": [
    "## Define constants"
   ]
  },
  {
   "cell_type": "code",
   "execution_count": 4,
   "metadata": {
    "application/vnd.databricks.v1+cell": {
     "cellMetadata": {},
     "inputWidgets": {},
     "nuid": "186d220c-b6b4-4e76-ab6f-fd07e20fc193",
     "showTitle": false,
     "title": ""
    }
   },
   "outputs": [],
   "source": [
    "# General\n",
    "UUID = \"2obn\" #Indicate the UUID created \n",
    "PROJECT_ID = \"leedeb-experimentation\"\n",
    "REGION = \"us-central1\"\n",
    "BUCKET_NAME = \"vertex-ai-databricks-retail-demo\"\n",
    "BUCKET_URI = f\"gs://{BUCKET_NAME}\""
   ]
  },
  {
   "cell_type": "code",
   "execution_count": 5,
   "metadata": {
    "application/vnd.databricks.v1+cell": {
     "cellMetadata": {},
     "inputWidgets": {},
     "nuid": "8df6cfd3-2143-486d-99c9-c276288dc578",
     "showTitle": false,
     "title": ""
    }
   },
   "outputs": [],
   "source": [
    "# Model Deployment \n",
    "CLOUD_FUNCTION_NAME = \"deployv2\"\n",
    "CLOUD_FUNCTION_ENTRY_POINT = \"deploy\"\n",
    "# CLOUD_FUNCTION_URL = f\"https://{REGION}-{PROJECT_ID}.cloudfunctions.net/{CLOUD_FUNCTION_NAME}\"\n",
    "CLOUD_FUNCTION_URL = f\"https://{CLOUD_FUNCTION_NAME}-witrkzd5va-uc.a.run.app/{CLOUD_FUNCTION_ENTRY_POINT}\"\n",
    "\n",
    "\n",
    "IP = \"35.222.197.99\"\n",
    "TRACKING_URI = f\"http://{IP}:5000\"\n",
    "EXPERIMENT_NAME = \"training\"\n",
    "MODEL_NAME = \"Weekly_Sales_GBTR_model_\" + UUID\n",
    "REGISTERED_MODEL = \"databricks_model2\"\n",
    "MODEL_STAGE=\"production\""
   ]
  },
  {
   "cell_type": "markdown",
   "metadata": {
    "application/vnd.databricks.v1+cell": {
     "cellMetadata": {},
     "inputWidgets": {},
     "nuid": "1388ab00-63c7-4e7f-a004-5aa2ca5c6a54",
     "showTitle": false,
     "title": ""
    }
   },
   "source": [
    "## Helpers"
   ]
  },
  {
   "cell_type": "code",
   "execution_count": 6,
   "metadata": {
    "application/vnd.databricks.v1+cell": {
     "cellMetadata": {},
     "inputWidgets": {},
     "nuid": "217a5b71-148e-485c-aa5b-720734d0a5e2",
     "showTitle": false,
     "title": ""
    }
   },
   "outputs": [],
   "source": [
    "# auth function\n",
    "def make_authorized_get_request(endpoint, audience):\n",
    "    \"\"\"\n",
    "    Make an authorized request to the given endpoint.\n",
    "    Args:\n",
    "        endpoint: The endpoint to send the request to.\n",
    "        audience: The audience to use when validating the JWT.\n",
    "    Returns:\n",
    "        The JSON response from the request.\n",
    "    \"\"\"\n",
    "    # Define the request.\n",
    "    req = urllib.request.Request(endpoint)\n",
    "\n",
    "    # Get the ID token from the environment.\n",
    "    auth_req = google.auth.transport.requests.Request()\n",
    "    id_token = google.oauth2.id_token.fetch_id_token(auth_req, audience)\n",
    "    \n",
    "    return id_token"
   ]
  },
  {
   "cell_type": "markdown",
   "metadata": {
    "application/vnd.databricks.v1+cell": {
     "cellMetadata": {},
     "inputWidgets": {},
     "nuid": "8a778bc9-644f-4316-addc-e0a493635c26",
     "showTitle": false,
     "title": ""
    }
   },
   "source": [
    "## Register the model"
   ]
  },
  {
   "cell_type": "code",
   "execution_count": 7,
   "metadata": {
    "application/vnd.databricks.v1+cell": {
     "cellMetadata": {},
     "inputWidgets": {},
     "nuid": "71ea2b8b-fd50-4230-b1a3-2580adc2456d",
     "showTitle": false,
     "title": ""
    }
   },
   "outputs": [],
   "source": [
    "client = MlflowClient(TRACKING_URI)"
   ]
  },
  {
   "cell_type": "code",
   "execution_count": 8,
   "metadata": {
    "application/vnd.databricks.v1+cell": {
     "cellMetadata": {},
     "inputWidgets": {},
     "nuid": "c3edd339-75f6-4cc0-90b9-289c353ba304",
     "showTitle": false,
     "title": ""
    }
   },
   "outputs": [],
   "source": [
    "last_experiment = client.search_experiments()[0]\n",
    "last_run = client.search_runs(last_experiment.experiment_id)[0]\n",
    "last_run_id = last_run.info.run_id"
   ]
  },
  {
   "cell_type": "code",
   "execution_count": 9,
   "metadata": {
    "application/vnd.databricks.v1+cell": {
     "cellMetadata": {},
     "inputWidgets": {},
     "nuid": "2c94af38-6ec7-4d7d-a2fb-00fc19417d08",
     "showTitle": false,
     "title": ""
    }
   },
   "outputs": [
    {
     "data": {
      "text/plain": [
       "'526e6590724d4433bb3cbf76bca010be'"
      ]
     },
     "execution_count": 9,
     "metadata": {},
     "output_type": "execute_result"
    }
   ],
   "source": [
    "last_run_id"
   ]
  },
  {
   "cell_type": "code",
   "execution_count": 10,
   "metadata": {
    "application/vnd.databricks.v1+cell": {
     "cellMetadata": {},
     "inputWidgets": {},
     "nuid": "5fac955c-d51f-4440-932a-fdc3dc7a1f8e",
     "showTitle": false,
     "title": ""
    }
   },
   "outputs": [
    {
     "name": "stderr",
     "output_type": "stream",
     "text": [
      "Registered model 'databricks_model2' already exists. Creating a new version of this model...\n",
      "2023/02/23 14:59:49 INFO mlflow.tracking._model_registry.client: Waiting up to 300 seconds for model version to finish creation.                     Model name: databricks_model2, version 29\n",
      "Created version '29' of model 'databricks_model2'.\n"
     ]
    }
   ],
   "source": [
    "mlflow.set_tracking_uri(TRACKING_URI)\n",
    "\n",
    "model_uri = f\"runs:/{last_run_id}/{MODEL_NAME}\"\n",
    "registered_model = mlflow.register_model(model_uri=model_uri, name=REGISTERED_MODEL)\n",
    "time.sleep(20)"
   ]
  },
  {
   "cell_type": "code",
   "execution_count": 11,
   "metadata": {
    "application/vnd.databricks.v1+cell": {
     "cellMetadata": {},
     "inputWidgets": {},
     "nuid": "9a09c48d-1295-46b4-a4dd-ecf25df72bd0",
     "showTitle": false,
     "title": ""
    }
   },
   "outputs": [
    {
     "data": {
      "text/plain": [
       "<ModelVersion: creation_timestamp=1677164389340, current_stage='None', description=('GBTRegressor MLLib PySpark trained for streaming pipeline, fixed issues with '\n",
       " 'staging to production.'), last_updated_timestamp=1677164409498, name='databricks_model2', run_id='526e6590724d4433bb3cbf76bca010be', run_link='', source='gs://mlflow-central-oss/mlflow_artifacts/0/526e6590724d4433bb3cbf76bca010be/artifacts/Weekly_Sales_GBTR_model_2obn', status='READY', status_message='', tags={}, user_id='', version='29'>"
      ]
     },
     "execution_count": 11,
     "metadata": {},
     "output_type": "execute_result"
    }
   ],
   "source": [
    "# add detailed comments for this specific model version that being registered\n",
    "client.update_model_version(\n",
    "  name=registered_model.name,\n",
    "  version=registered_model.version,\n",
    "  description=\"GBTRegressor MLLib PySpark trained for streaming pipeline, fixed issues with staging to production.\"\n",
    ")"
   ]
  },
  {
   "cell_type": "markdown",
   "metadata": {
    "application/vnd.databricks.v1+cell": {
     "cellMetadata": {},
     "inputWidgets": {},
     "nuid": "34070ae7-2bd7-41fb-b517-3415478a7095",
     "showTitle": false,
     "title": ""
    }
   },
   "source": [
    "## Create the HTTP registry webhook\n",
    "\n",
    "Webhooks enable you to listen for Model Registry events so your integrations can automatically trigger actions. You can use webhooks to automate and integrate your machine learning pipeline with existing CI/CD tools and workflows. \n",
    "\n",
    "For example, in our case we are going to pass the event in a cloud function and we will trigger a CI/CD builds to deploy the model on Vertex AI."
   ]
  },
  {
   "cell_type": "markdown",
   "metadata": {
    "application/vnd.databricks.v1+cell": {
     "cellMetadata": {},
     "inputWidgets": {},
     "nuid": "b7d9f254-2a54-41e1-9207-70c77b609a3a",
     "showTitle": false,
     "title": ""
    }
   },
   "source": [
    "### Get the auth to call the function from the webhook"
   ]
  },
  {
   "cell_type": "code",
   "execution_count": 15,
   "metadata": {
    "application/vnd.databricks.v1+cell": {
     "cellMetadata": {},
     "inputWidgets": {},
     "nuid": "e93d5ca3-687e-4e48-8712-136cf7b9f3c9",
     "showTitle": false,
     "title": ""
    }
   },
   "outputs": [],
   "source": [
    "token_id  = make_authorized_get_request(CLOUD_FUNCTION_URL, CLOUD_FUNCTION_URL)\n",
    "!echo $token_id > token_file"
   ]
  },
  {
   "cell_type": "code",
   "execution_count": 18,
   "metadata": {},
   "outputs": [],
   "source": [
    "# IP_WITH_PORT = f'{TRACKING_IP}:5000'\n",
    "!databricks configure -f token_file --host $TRACKING_URI"
   ]
  },
  {
   "cell_type": "code",
   "execution_count": 19,
   "metadata": {
    "application/vnd.databricks.v1+cell": {
     "cellMetadata": {},
     "inputWidgets": {},
     "nuid": "a7f142d5-06bc-40b2-89d2-d5618ac46e9a",
     "showTitle": false,
     "title": ""
    }
   },
   "outputs": [
    {
     "ename": "RegistryWebhooksException",
     "evalue": "API request to endpoint /api/2.0/preview/mlflow/registry-webhooks/create failed with error code 404 != 200. Response body: '<!doctype html>\n<html lang=en>\n<title>404 Not Found</title>\n<h1>Not Found</h1>\n<p>The requested URL was not found on the server. If you entered the URL manually please check your spelling and try again.</p>\n'",
     "output_type": "error",
     "traceback": [
      "\u001b[0;31m---------------------------------------------------------------------------\u001b[0m",
      "\u001b[0;31mRegistryWebhooksException\u001b[0m                 Traceback (most recent call last)",
      "\u001b[0;32m/var/tmp/ipykernel_17054/2388852794.py\u001b[0m in \u001b[0;36m<module>\u001b[0;34m\u001b[0m\n\u001b[1;32m      8\u001b[0m   \u001b[0mhttp_url_spec\u001b[0m\u001b[0;34m=\u001b[0m\u001b[0mhttp_url_spec\u001b[0m\u001b[0;34m,\u001b[0m\u001b[0;34m\u001b[0m\u001b[0;34m\u001b[0m\u001b[0m\n\u001b[1;32m      9\u001b[0m   \u001b[0mdescription\u001b[0m\u001b[0;34m=\u001b[0m\u001b[0;34m\"Testing deploy model\"\u001b[0m\u001b[0;34m,\u001b[0m\u001b[0;34m\u001b[0m\u001b[0;34m\u001b[0m\u001b[0m\n\u001b[0;32m---> 10\u001b[0;31m   \u001b[0mstatus\u001b[0m\u001b[0;34m=\u001b[0m\u001b[0;34m\"TEST_MODE\"\u001b[0m\u001b[0;34m\u001b[0m\u001b[0;34m\u001b[0m\u001b[0m\n\u001b[0m\u001b[1;32m     11\u001b[0m )\n",
      "\u001b[0;32m~/.local/lib/python3.7/site-packages/databricks_registry_webhooks/client.py\u001b[0m in \u001b[0;36mcreate_webhook\u001b[0;34m(self, events, http_url_spec, job_spec, model_name, description, status)\u001b[0m\n\u001b[1;32m    122\u001b[0m \u001b[0;34m\u001b[0m\u001b[0m\n\u001b[1;32m    123\u001b[0m         \u001b[0mreq_body\u001b[0m \u001b[0;34m=\u001b[0m \u001b[0mmessage_to_json\u001b[0m\u001b[0;34m(\u001b[0m\u001b[0mproto\u001b[0m\u001b[0;34m)\u001b[0m\u001b[0;34m\u001b[0m\u001b[0;34m\u001b[0m\u001b[0m\n\u001b[0;32m--> 124\u001b[0;31m         \u001b[0mresponse_proto\u001b[0m \u001b[0;34m=\u001b[0m \u001b[0mself\u001b[0m\u001b[0;34m.\u001b[0m\u001b[0m_call_endpoint\u001b[0m\u001b[0;34m(\u001b[0m\u001b[0mCreateRegistryWebhook\u001b[0m\u001b[0;34m,\u001b[0m \u001b[0mreq_body\u001b[0m\u001b[0;34m)\u001b[0m\u001b[0;34m\u001b[0m\u001b[0;34m\u001b[0m\u001b[0m\n\u001b[0m\u001b[1;32m    125\u001b[0m         \u001b[0;32mreturn\u001b[0m \u001b[0mRegistryWebhook\u001b[0m\u001b[0;34m.\u001b[0m\u001b[0mfrom_proto\u001b[0m\u001b[0;34m(\u001b[0m\u001b[0mresponse_proto\u001b[0m\u001b[0;34m.\u001b[0m\u001b[0mwebhook\u001b[0m\u001b[0;34m)\u001b[0m\u001b[0;34m\u001b[0m\u001b[0;34m\u001b[0m\u001b[0m\n\u001b[1;32m    126\u001b[0m \u001b[0;34m\u001b[0m\u001b[0m\n",
      "\u001b[0;32m~/.local/lib/python3.7/site-packages/databricks_registry_webhooks/client.py\u001b[0m in \u001b[0;36m_call_endpoint\u001b[0;34m(self, api, json_body)\u001b[0m\n\u001b[1;32m     47\u001b[0m         \u001b[0mresponse_proto\u001b[0m \u001b[0;34m=\u001b[0m \u001b[0mapi\u001b[0m\u001b[0;34m.\u001b[0m\u001b[0mResponse\u001b[0m\u001b[0;34m(\u001b[0m\u001b[0;34m)\u001b[0m\u001b[0;34m\u001b[0m\u001b[0;34m\u001b[0m\u001b[0m\n\u001b[1;32m     48\u001b[0m         \u001b[0mhost_creds\u001b[0m \u001b[0;34m=\u001b[0m \u001b[0mget_databricks_host_creds\u001b[0m\u001b[0;34m(\u001b[0m\u001b[0mself\u001b[0m\u001b[0;34m.\u001b[0m\u001b[0mregistry_uri\u001b[0m\u001b[0;34m)\u001b[0m\u001b[0;34m\u001b[0m\u001b[0;34m\u001b[0m\u001b[0m\n\u001b[0;32m---> 49\u001b[0;31m         \u001b[0;32mreturn\u001b[0m \u001b[0mcall_endpoint\u001b[0m\u001b[0;34m(\u001b[0m\u001b[0mhost_creds\u001b[0m\u001b[0;34m,\u001b[0m \u001b[0mendpoint\u001b[0m\u001b[0;34m,\u001b[0m \u001b[0mmethod\u001b[0m\u001b[0;34m,\u001b[0m \u001b[0mjson_body\u001b[0m\u001b[0;34m,\u001b[0m \u001b[0mresponse_proto\u001b[0m\u001b[0;34m)\u001b[0m\u001b[0;34m\u001b[0m\u001b[0;34m\u001b[0m\u001b[0m\n\u001b[0m\u001b[1;32m     50\u001b[0m \u001b[0;34m\u001b[0m\u001b[0m\n\u001b[1;32m     51\u001b[0m     def create_webhook(\n",
      "\u001b[0;32m~/.local/lib/python3.7/site-packages/databricks_registry_webhooks/utils/rest_utils.py\u001b[0m in \u001b[0;36mcall_endpoint\u001b[0;34m(host_creds, endpoint, method, json_body, response_proto)\u001b[0m\n\u001b[1;32m     55\u001b[0m             \u001b[0mhost_creds\u001b[0m\u001b[0;34m=\u001b[0m\u001b[0mhost_creds\u001b[0m\u001b[0;34m,\u001b[0m \u001b[0mendpoint\u001b[0m\u001b[0;34m=\u001b[0m\u001b[0mendpoint\u001b[0m\u001b[0;34m,\u001b[0m \u001b[0mmethod\u001b[0m\u001b[0;34m=\u001b[0m\u001b[0mmethod\u001b[0m\u001b[0;34m,\u001b[0m \u001b[0mjson\u001b[0m\u001b[0;34m=\u001b[0m\u001b[0mjson_body\u001b[0m\u001b[0;34m\u001b[0m\u001b[0;34m\u001b[0m\u001b[0m\n\u001b[1;32m     56\u001b[0m         )\n\u001b[0;32m---> 57\u001b[0;31m     \u001b[0mresponse\u001b[0m \u001b[0;34m=\u001b[0m \u001b[0m_verify_rest_response\u001b[0m\u001b[0;34m(\u001b[0m\u001b[0mresponse\u001b[0m\u001b[0;34m,\u001b[0m \u001b[0mendpoint\u001b[0m\u001b[0;34m)\u001b[0m\u001b[0;34m\u001b[0m\u001b[0;34m\u001b[0m\u001b[0m\n\u001b[0m\u001b[1;32m     58\u001b[0m     \u001b[0mjs_dict\u001b[0m \u001b[0;34m=\u001b[0m \u001b[0mjson\u001b[0m\u001b[0;34m.\u001b[0m\u001b[0mloads\u001b[0m\u001b[0;34m(\u001b[0m\u001b[0mresponse\u001b[0m\u001b[0;34m.\u001b[0m\u001b[0mtext\u001b[0m\u001b[0;34m)\u001b[0m\u001b[0;34m\u001b[0m\u001b[0;34m\u001b[0m\u001b[0m\n\u001b[1;32m     59\u001b[0m     \u001b[0mparse_dict\u001b[0m\u001b[0;34m(\u001b[0m\u001b[0mjs_dict\u001b[0m\u001b[0;34m=\u001b[0m\u001b[0mjs_dict\u001b[0m\u001b[0;34m,\u001b[0m \u001b[0mmessage\u001b[0m\u001b[0;34m=\u001b[0m\u001b[0mresponse_proto\u001b[0m\u001b[0;34m)\u001b[0m\u001b[0;34m\u001b[0m\u001b[0;34m\u001b[0m\u001b[0m\n",
      "\u001b[0;32m~/.local/lib/python3.7/site-packages/databricks_registry_webhooks/utils/rest_utils.py\u001b[0m in \u001b[0;36m_verify_rest_response\u001b[0;34m(response, endpoint)\u001b[0m\n\u001b[1;32m    197\u001b[0m                 \u001b[0mresponse\u001b[0m\u001b[0;34m.\u001b[0m\u001b[0mstatus_code\u001b[0m\u001b[0;34m,\u001b[0m\u001b[0;34m\u001b[0m\u001b[0;34m\u001b[0m\u001b[0m\n\u001b[1;32m    198\u001b[0m             )\n\u001b[0;32m--> 199\u001b[0;31m             \u001b[0;32mraise\u001b[0m \u001b[0mRegistryWebhooksException\u001b[0m\u001b[0;34m(\u001b[0m\u001b[0;34m\"%s. Response body: '%s'\"\u001b[0m \u001b[0;34m%\u001b[0m \u001b[0;34m(\u001b[0m\u001b[0mbase_msg\u001b[0m\u001b[0;34m,\u001b[0m \u001b[0mresponse\u001b[0m\u001b[0;34m.\u001b[0m\u001b[0mtext\u001b[0m\u001b[0;34m)\u001b[0m\u001b[0;34m)\u001b[0m\u001b[0;34m\u001b[0m\u001b[0;34m\u001b[0m\u001b[0m\n\u001b[0m\u001b[1;32m    200\u001b[0m \u001b[0;34m\u001b[0m\u001b[0m\n\u001b[1;32m    201\u001b[0m     \u001b[0;31m# Skip validation for endpoints (e.g. DBFS file-download API) which may return a non-JSON\u001b[0m\u001b[0;34m\u001b[0m\u001b[0;34m\u001b[0m\u001b[0;34m\u001b[0m\u001b[0m\n",
      "\u001b[0;31mRegistryWebhooksException\u001b[0m: API request to endpoint /api/2.0/preview/mlflow/registry-webhooks/create failed with error code 404 != 200. Response body: '<!doctype html>\n<html lang=en>\n<title>404 Not Found</title>\n<h1>Not Found</h1>\n<p>The requested URL was not found on the server. If you entered the URL manually please check your spelling and try again.</p>\n'"
     ]
    }
   ],
   "source": [
    "http_url_spec = HttpUrlSpec(\n",
    "  url=CLOUD_FUNCTION_URL,\n",
    "  authorization=f\"Bearer {token_id}\"\n",
    ")\n",
    "http_webhook = RegistryWebhooksClient().create_webhook(\n",
    "  model_name=registered_model.name, \n",
    "  events=[\"MODEL_VERSION_TRANSITIONED_STAGE\"],\n",
    "  http_url_spec=http_url_spec,\n",
    "  description=\"Testing deploy model\",\n",
    "  status=\"TEST_MODE\"\n",
    ")\n"
   ]
  },
  {
   "cell_type": "code",
   "execution_count": null,
   "metadata": {
    "application/vnd.databricks.v1+cell": {
     "cellMetadata": {},
     "inputWidgets": {},
     "nuid": "72758468-2f51-49fb-967b-7c2c437b14e9",
     "showTitle": false,
     "title": ""
    }
   },
   "outputs": [
    {
     "data": {
      "text/plain": [
       "Out[48]: <RegistryWebhook: creation_timestamp=1675322948311, description='Testing deploy model', events=['MODEL_VERSION_TRANSITIONED_STAGE'], http_url_spec=<HttpUrlSpec: authorization=None, enable_ssl_verification=True, secret=None, url='https://deployv2-witrkzd5va-uc.a.run.app/deploy'>, id='1405f1b7a86940e0b185b270a288c4f2', job_spec=None, last_updated_timestamp=1675322948311, model_name='databricks_model2', status='TEST_MODE'>"
      ]
     },
     "metadata": {
      "application/vnd.databricks.v1+output": {
       "addedWidgets": {},
       "arguments": {},
       "data": "Out[48]: <RegistryWebhook: creation_timestamp=1675322948311, description='Testing deploy model', events=['MODEL_VERSION_TRANSITIONED_STAGE'], http_url_spec=<HttpUrlSpec: authorization=None, enable_ssl_verification=True, secret=None, url='https://deployv2-witrkzd5va-uc.a.run.app/deploy'>, id='1405f1b7a86940e0b185b270a288c4f2', job_spec=None, last_updated_timestamp=1675322948311, model_name='databricks_model2', status='TEST_MODE'>",
       "datasetInfos": [],
       "metadata": {},
       "name": null,
       "removedWidgets": [],
       "type": "ansi"
      }
     },
     "output_type": "display_data"
    }
   ],
   "source": [
    "http_webhook"
   ]
  },
  {
   "cell_type": "markdown",
   "metadata": {
    "application/vnd.databricks.v1+cell": {
     "cellMetadata": {},
     "inputWidgets": {},
     "nuid": "d57c5cc4-ff73-4251-8625-9ae7f0edb98c",
     "showTitle": false,
     "title": ""
    }
   },
   "source": [
    "### Update the webhook to active status\n",
    "To enable the webhook for real events, set its status to ACTIVE through an update call, which can also be used to change any of its other properties."
   ]
  },
  {
   "cell_type": "code",
   "execution_count": null,
   "metadata": {
    "application/vnd.databricks.v1+cell": {
     "cellMetadata": {},
     "inputWidgets": {},
     "nuid": "6f6be2cb-9f66-4ea1-b318-8b5e9e3b287d",
     "showTitle": false,
     "title": ""
    }
   },
   "outputs": [],
   "source": [
    "http_webhook = RegistryWebhooksClient().update_webhook(\n",
    "  id=http_webhook.id,\n",
    "  status=\"ACTIVE\"\n",
    ")"
   ]
  },
  {
   "cell_type": "code",
   "execution_count": null,
   "metadata": {
    "application/vnd.databricks.v1+cell": {
     "cellMetadata": {},
     "inputWidgets": {},
     "nuid": "0f3fcd60-9b8d-4152-88e4-bf06e452face",
     "showTitle": false,
     "title": ""
    }
   },
   "outputs": [
    {
     "data": {
      "text/plain": [
       "Out[50]: <RegistryWebhook: creation_timestamp=1675322948311, description='Testing deploy model', events=['MODEL_VERSION_TRANSITIONED_STAGE'], http_url_spec=<HttpUrlSpec: authorization=None, enable_ssl_verification=True, secret=None, url='https://deployv2-witrkzd5va-uc.a.run.app/deploy'>, id='1405f1b7a86940e0b185b270a288c4f2', job_spec=None, last_updated_timestamp=1675322949097, model_name='databricks_model2', status='ACTIVE'>"
      ]
     },
     "metadata": {
      "application/vnd.databricks.v1+output": {
       "addedWidgets": {},
       "arguments": {},
       "data": "Out[50]: <RegistryWebhook: creation_timestamp=1675322948311, description='Testing deploy model', events=['MODEL_VERSION_TRANSITIONED_STAGE'], http_url_spec=<HttpUrlSpec: authorization=None, enable_ssl_verification=True, secret=None, url='https://deployv2-witrkzd5va-uc.a.run.app/deploy'>, id='1405f1b7a86940e0b185b270a288c4f2', job_spec=None, last_updated_timestamp=1675322949097, model_name='databricks_model2', status='ACTIVE'>",
       "datasetInfos": [],
       "metadata": {},
       "name": null,
       "removedWidgets": [],
       "type": "ansi"
      }
     },
     "output_type": "display_data"
    }
   ],
   "source": [
    "http_webhook"
   ]
  },
  {
   "cell_type": "markdown",
   "metadata": {
    "application/vnd.databricks.v1+cell": {
     "cellMetadata": {},
     "inputWidgets": {},
     "nuid": "a03e701e-a721-4069-b117-acded13a9711",
     "showTitle": false,
     "title": ""
    }
   },
   "source": [
    "## Transition model to production stage"
   ]
  },
  {
   "cell_type": "code",
   "execution_count": null,
   "metadata": {
    "application/vnd.databricks.v1+cell": {
     "cellMetadata": {},
     "inputWidgets": {},
     "nuid": "5d0532d0-6f22-4fbb-8da0-ad3d9c3596db",
     "showTitle": false,
     "title": ""
    }
   },
   "outputs": [
    {
     "data": {
      "text/plain": [
       "Out[51]: <ModelVersion: creation_timestamp=1675322913329, current_stage='Production', description=('GBTRegressor MLLib PySpark trained for streaming pipeline, fixed issues with '\n",
       " 'staging to production.'), last_updated_timestamp=1675322949408, name='databricks_model2', run_id='4ec16154d809480ea7db87dacfbfee33', run_link='', source='dbfs:/databricks/mlflow-tracking/bcd044c1237440d7866d3363fd45fffb/4ec16154d809480ea7db87dacfbfee33/artifacts/Weekly_Sales_GBTR_model_2obn', status='READY', status_message='', tags={}, user_id='3114545449803070', version='1'>"
      ]
     },
     "metadata": {
      "application/vnd.databricks.v1+output": {
       "addedWidgets": {},
       "arguments": {},
       "data": "Out[51]: <ModelVersion: creation_timestamp=1675322913329, current_stage='Production', description=('GBTRegressor MLLib PySpark trained for streaming pipeline, fixed issues with '\n 'staging to production.'), last_updated_timestamp=1675322949408, name='databricks_model2', run_id='4ec16154d809480ea7db87dacfbfee33', run_link='', source='dbfs:/databricks/mlflow-tracking/bcd044c1237440d7866d3363fd45fffb/4ec16154d809480ea7db87dacfbfee33/artifacts/Weekly_Sales_GBTR_model_2obn', status='READY', status_message='', tags={}, user_id='3114545449803070', version='1'>",
       "datasetInfos": [],
       "metadata": {},
       "name": null,
       "removedWidgets": [],
       "type": "ansi"
      }
     },
     "output_type": "display_data"
    }
   ],
   "source": [
    "client.transition_model_version_stage(\n",
    "  name=registered_model.name,\n",
    "  version=registered_model.version,\n",
    "  stage=MODEL_STAGE,\n",
    ")"
   ]
  },
  {
   "cell_type": "markdown",
   "metadata": {
    "application/vnd.databricks.v1+cell": {
     "cellMetadata": {},
     "inputWidgets": {},
     "nuid": "c9822795-2132-4749-bc48-d481e267e963",
     "showTitle": false,
     "title": ""
    }
   },
   "source": [
    "## Do not run"
   ]
  },
  {
   "cell_type": "code",
   "execution_count": null,
   "metadata": {
    "application/vnd.databricks.v1+cell": {
     "cellMetadata": {},
     "inputWidgets": {},
     "nuid": "499dbd48-f68a-47c9-8fb3-7ef3212083f7",
     "showTitle": false,
     "title": ""
    }
   },
   "outputs": [],
   "source": [
    "webhooks_list = RegistryWebhooksClient().list_webhooks(\n",
    "  events=[\"MODEL_VERSION_TRANSITIONED_STAGE\"]\n",
    ")"
   ]
  },
  {
   "cell_type": "code",
   "execution_count": null,
   "metadata": {
    "application/vnd.databricks.v1+cell": {
     "cellMetadata": {},
     "inputWidgets": {},
     "nuid": "72da3a82-9b89-43bd-aa30-7b30ee102742",
     "showTitle": false,
     "title": ""
    }
   },
   "outputs": [],
   "source": [
    "for webhook in webhooks_list:\n",
    "  RegistryWebhooksClient().delete_webhook(webhook.id)"
   ]
  },
  {
   "cell_type": "code",
   "execution_count": null,
   "metadata": {
    "application/vnd.databricks.v1+cell": {
     "cellMetadata": {},
     "inputWidgets": {},
     "nuid": "90b15237-cfaa-4c7e-b22f-20e5cd0abbd4",
     "showTitle": false,
     "title": ""
    }
   },
   "outputs": [],
   "source": []
  }
 ],
 "metadata": {
  "application/vnd.databricks.v1+notebook": {
   "dashboards": [],
   "language": "python",
   "notebookMetadata": {
    "pythonIndentUnit": 4
   },
   "notebookName": "deployment",
   "notebookOrigID": 3192076020676464,
   "widgets": {}
  },
  "environment": {
   "kernel": "python3",
   "name": "tf2-gpu.2-11.m103",
   "type": "gcloud",
   "uri": "gcr.io/deeplearning-platform-release/tf2-gpu.2-11:m103"
  },
  "kernelspec": {
   "display_name": "Python 3 (ipykernel)",
   "language": "python",
   "name": "python3"
  },
  "language_info": {
   "codemirror_mode": {
    "name": "ipython",
    "version": 3
   },
   "file_extension": ".py",
   "mimetype": "text/x-python",
   "name": "python",
   "nbconvert_exporter": "python",
   "pygments_lexer": "ipython3",
   "version": "3.7.12"
  }
 },
 "nbformat": 4,
 "nbformat_minor": 4
}
